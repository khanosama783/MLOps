{
 "cells": [
  {
   "cell_type": "markdown",
   "metadata": {},
   "source": [
    "## Scanario 1: A single data scientist participating in an ML completation\n",
    "MLflow setup:\n",
    "- Tracking server: no\n",
    "- Backend store: Local filesystem\n",
    "- Artifacts store: Local filesystem"
   ]
  },
  {
   "cell_type": "code",
   "execution_count": null,
   "metadata": {},
   "outputs": [],
   "source": [
    "!mlflow --version\n",
    "#mlflow is version 2.9.2 \n",
    "!python --version\n",
    "#Python 3.9.18"
   ]
  },
  {
   "cell_type": "code",
   "execution_count": 1,
   "metadata": {},
   "outputs": [],
   "source": [
    "import mlflow"
   ]
  },
  {
   "cell_type": "code",
   "execution_count": 3,
   "metadata": {},
   "outputs": [
    {
     "name": "stdout",
     "output_type": "stream",
     "text": [
      "tracking URI: 'file:///home/osama/Mlops/Part-2/experiment_tracking/mlflow-expamples/mlruns'\n"
     ]
    }
   ],
   "source": [
    "print(f\"tracking URI: '{mlflow.get_tracking_uri()}'\")"
   ]
  },
  {
   "cell_type": "code",
   "execution_count": 4,
   "metadata": {},
   "outputs": [
    {
     "data": {
      "text/plain": [
       "[<Experiment: artifact_location='file:///home/osama/Mlops/Part-2/experiment_tracking/mlflow-expamples/mlruns/0', creation_time=1707290620352, experiment_id='0', last_update_time=1707290620352, lifecycle_stage='active', name='Default', tags={}>]"
      ]
     },
     "execution_count": 4,
     "metadata": {},
     "output_type": "execute_result"
    }
   ],
   "source": [
    "mlflow.search_experiments()"
   ]
  },
  {
   "cell_type": "code",
   "execution_count": 11,
   "metadata": {},
   "outputs": [
    {
     "name": "stdout",
     "output_type": "stream",
     "text": [
      "default artifacts URI: 'file:///home/osama/Mlops/Part-2/experiment_tracking/mlflow-expamples/mlruns/548213313665840136/f4a8fa508055448593682b726b6c1928/artifacts'\n"
     ]
    }
   ],
   "source": [
    "from sklearn.linear_model import LogisticRegression\n",
    "from sklearn.datasets import load_iris\n",
    "from sklearn.metrics import accuracy_score\n",
    "\n",
    "mlflow.set_experiment(\"experiment-1\")\n",
    "\n",
    "with mlflow.start_run():\n",
    "    X, y = load_iris(return_X_y=True)\n",
    "    params = {\"C\": 0.1, \"random_state\": 42}\n",
    "    mlflow.log_params(params)\n",
    "    \n",
    "    lr = LogisticRegression(**params).fit(X, y)\n",
    "    y_pred = lr.predict(X)\n",
    "    mlflow.log_metric(\"Accuracy\", accuracy_score(y, y_pred))\n",
    "\n",
    "    mlflow.sklearn.log_model(lr, artifact_path=\"models\")\n",
    "    print(f\"default artifacts URI: '{mlflow.get_artifact_uri()}'\")"
   ]
  },
  {
   "cell_type": "code",
   "execution_count": 12,
   "metadata": {},
   "outputs": [
    {
     "data": {
      "text/plain": [
       "[<Experiment: artifact_location='file:///home/osama/Mlops/Part-2/experiment_tracking/mlflow-expamples/mlruns/548213313665840136', creation_time=1707291104517, experiment_id='548213313665840136', last_update_time=1707291104517, lifecycle_stage='active', name='experiment-1', tags={}>,\n",
       " <Experiment: artifact_location='file:///home/osama/Mlops/Part-2/experiment_tracking/mlflow-expamples/mlruns/0', creation_time=1707290620352, experiment_id='0', last_update_time=1707290620352, lifecycle_stage='active', name='Default', tags={}>]"
      ]
     },
     "execution_count": 12,
     "metadata": {},
     "output_type": "execute_result"
    }
   ],
   "source": [
    "mlflow.search_experiments()"
   ]
  },
  {
   "cell_type": "code",
   "execution_count": 13,
   "metadata": {},
   "outputs": [],
   "source": [
    "from mlflow.tracking import MlflowClient\n",
    "client = MlflowClient()"
   ]
  },
  {
   "cell_type": "code",
   "execution_count": 14,
   "metadata": {},
   "outputs": [
    {
     "name": "stdout",
     "output_type": "stream",
     "text": [
      "It's not possible to access the model registry\n"
     ]
    }
   ],
   "source": [
    "from mlflow.tracking import MlflowClient\n",
    "\n",
    "try:\n",
    "    client.get_registered_model()\n",
    "except:\n",
    "    print(f\"It's not possible to access the model registry\")"
   ]
  }
 ],
 "metadata": {
  "kernelspec": {
   "display_name": "Mlops",
   "language": "python",
   "name": "python3"
  },
  "language_info": {
   "codemirror_mode": {
    "name": "ipython",
    "version": 3
   },
   "file_extension": ".py",
   "mimetype": "text/x-python",
   "name": "python",
   "nbconvert_exporter": "python",
   "pygments_lexer": "ipython3",
   "version": "3.9.18"
  }
 },
 "nbformat": 4,
 "nbformat_minor": 2
}
